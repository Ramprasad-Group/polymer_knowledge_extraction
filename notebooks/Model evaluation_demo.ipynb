{
 "cells": [
  {
   "cell_type": "markdown",
   "metadata": {},
   "source": [
    "# Basic imports"
   ]
  },
  {
   "cell_type": "code",
   "execution_count": 1,
   "metadata": {},
   "outputs": [],
   "source": [
    "import gensim\n",
    "import numpy as np\n",
    "from collections import defaultdict\n",
    "import operator\n",
    "import json\n",
    "from chemdataextractor.doc import Paragraph\n",
    "MODEL_FILE_NAME = '/path/to/model/file'\n",
    "full_model = gensim.models.Word2Vec.load(MODEL_FILE_NAME)"
   ]
  },
  {
   "cell_type": "code",
   "execution_count": 2,
   "metadata": {},
   "outputs": [
    {
     "data": {
      "text/plain": [
       "365743"
      ]
     },
     "execution_count": 2,
     "metadata": {},
     "output_type": "execute_result"
    }
   ],
   "source": [
    "len(full_model.wv.vocab.keys())"
   ]
  },
  {
   "cell_type": "markdown",
   "metadata": {},
   "source": [
    "# Predict Polymer Applications"
   ]
  },
  {
   "cell_type": "markdown",
   "metadata": {},
   "source": [
    "### We will predict applications given a polymer name. Word vector for a polymer is matched against word vectors from the class of applications"
   ]
  },
  {
   "cell_type": "code",
   "execution_count": 4,
   "metadata": {},
   "outputs": [],
   "source": [
    "# import tagged data\n",
    "data = open('../data/Mat-intelligence_data/apl.json', 'r')\n",
    "tags = json.load(data)\n",
    "list_tags = list(tags.keys())\n",
    "list_tags_reduced = [tag for tag in list_tags if ' ' in tag]"
   ]
  },
  {
   "cell_type": "code",
   "execution_count": 8,
   "metadata": {},
   "outputs": [
    {
     "data": {
      "text/plain": [
       "[]"
      ]
     },
     "execution_count": 8,
     "metadata": {},
     "output_type": "execute_result"
    }
   ],
   "source": [
    "# Matrix calculation of chosen word vector and all tagged data and their representations (if existent)\n",
    "# Save as dict and sort\n",
    "\n",
    "query_word = 'polyethylene'\n",
    "dict_list = {}\n",
    "top_k = 20\n",
    "for tag in list_tags_reduced:\n",
    "    if tag in full_model.wv.vocab.keys():\n",
    "        dict_list[tag] = full_model.wv.similarity(tag, query_word)\n",
    "\n",
    "sorted_dict = sorted(dict_list.items(), key=operator.itemgetter(1), reverse=True)\n",
    "keys_only = [item[0] for item in sorted_dict]\n",
    "keys_only_subset = keys_only[:top_k]\n",
    "incomplete_entities = [tag for tag in keys_only_subset if '(' in tag and ')' not in tag]\n",
    "for tag in incomplete_entities: keys_only_subset.remove(tag)\n",
    "doc = ' ; '.join(keys_only_subset)\n",
    "chem_entities = Paragraph(doc).cems\n",
    "chem_entities_string = list(set([c.__str__() for c in chem_entities]))\n",
    "\n",
    "for tag in chem_entities_string:\n",
    "    if tag in keys_only_subset:\n",
    "        keys_only_subset.remove(tag)\n",
    "keys_only_subset"
   ]
  },
  {
   "cell_type": "markdown",
   "metadata": {},
   "source": [
    "# Polymer Named Entity Normalization"
   ]
  },
  {
   "cell_type": "markdown",
   "metadata": {},
   "source": [
    "### Predict chemical named entities (CNE) which are likely to be the same as the word vector of given CNE. At present doesn't work so well for entity normalization and predicts any CNE that might co-occur.\n",
    "\n",
    "### Normalization: Label all names that represent the same entity"
   ]
  },
  {
   "cell_type": "code",
   "execution_count": 121,
   "metadata": {},
   "outputs": [
    {
     "data": {
      "text/plain": [
       "['polymethylmethacrylate',\n",
       " 'poly(methylmethacrylate)',\n",
       " 'polymethyl methacrylate',\n",
       " 'Poly(methyl methacrylate)',\n",
       " 'polystyrene']"
      ]
     },
     "execution_count": 121,
     "metadata": {},
     "output_type": "execute_result"
    }
   ],
   "source": [
    "query_word = 'poly(methyl methacrylate)'\n",
    "dict_list = {}\n",
    "keys = full_model.wv.similar_by_vector(query_word, topn=5)\n",
    "keys_only_subset = [item[0] for item in keys]\n",
    "incomplete_entities = [tag for tag in keys_only_subset if '(' in tag and ')' not in tag]\n",
    "for tag in incomplete_entities: keys_only_subset.remove(tag)\n",
    "doc = ' ; '.join(keys_only_subset)\n",
    "chem_entities = Paragraph(doc).cems\n",
    "chem_entities_string = list(set([c.__str__() for c in chem_entities]))\n",
    "#print(len(chem_entities_string))\n",
    "polymer_NER = []\n",
    "for tag in chem_entities_string:\n",
    "    if tag in keys_only_subset:\n",
    "        polymer_NER.append(tag)\n",
    "keys_only_subset"
   ]
  },
  {
   "cell_type": "markdown",
   "metadata": {},
   "source": [
    "# Word2Vec Analogies"
   ]
  },
  {
   "cell_type": "code",
   "execution_count": 8,
   "metadata": {},
   "outputs": [
    {
     "data": {
      "text/plain": [
       "[('waxs', 0.6477597951889038),\n",
       " ('wide-angle x-ray diffraction', 0.6331572532653809),\n",
       " ('saxs', 0.5924482345581055),\n",
       " ('wxrd', 0.5798591375350952),\n",
       " ('waxrd', 0.5793081521987915),\n",
       " ('wide‐angle', 0.5599203705787659),\n",
       " ('differential scanning calorimetry', 0.5474841594696045),\n",
       " ('x-ray diffraction', 0.5427091717720032),\n",
       " ('small-angle x-ray scattering', 0.5336911082267761),\n",
       " ('diffractometry', 0.5099477767944336)]"
      ]
     },
     "execution_count": 8,
     "metadata": {},
     "output_type": "execute_result"
    }
   ],
   "source": [
    "full_model.wv.most_similar(positive=['waxd', 'scanning electron microscopy'], negative=['sem'])"
   ]
  },
  {
   "cell_type": "code",
   "execution_count": null,
   "metadata": {},
   "outputs": [],
   "source": [
    "# Evaluate performance of analogies\n",
    "def word_analogy_performance(file, model_file, best_of=4):\n",
    "    \"\"\"\n",
    "    file: contains analogy ground truth pairs\n",
    "    model_file: word embedding model file\n",
    "    best_of: mark output as correct if found in the top best_of predictions\n",
    "    \"\"\"\n",
    "    if 'word2vec' in model_file: \n",
    "        model = gensim.models.Word2Vec.load(model_file)\n",
    "    elif 'fastText' in model_file:\n",
    "        model = gensim.models.FastText.load(model_file)\n",
    "    else:\n",
    "        raise ValueError\n",
    "    dict_performance = {}\n",
    "    header = ''\n",
    "    total_count = 0\n",
    "    with open(file, mode='r', newline='\\n') as f:\n",
    "        for line in f.readlines():\n",
    "            if line[0] == ':':\n",
    "                if total_count != 0 and header != '':\n",
    "                    dict_performance[header] = {}\n",
    "                    dict_performance[header]['Accuracy'] = success_count/total_count\n",
    "                    dict_performance[header]['Dataset size'] = total_count\n",
    "                header = line.replace(': ', '').replace('\\n', '')\n",
    "                success_count = 0\n",
    "                total_count = 0\n",
    "            else:\n",
    "                analogy_set = line.split(';')\n",
    "                analogy_set = [token.replace('\\n', '').replace(' ', '_') for token in analogy_set]\n",
    "                if all([token in model.wv.vocab.keys() for token in analogy_set]):\n",
    "                    total_count += 1\n",
    "                    if analogy_set[0] in [item[0] for item in model.wv.most_similar(positive =[analogy_set[1], analogy_set[2]], negative = [analogy_set[3]])][:best_of]: success_count += 1\n",
    "        if total_count != 0 and header != '':\n",
    "            dict_performance[header] = {}\n",
    "            dict_performance[header]['Accuracy'] = success_count/total_count\n",
    "            dict_performance[header]['Dataset size'] = total_count\n",
    "    return dict_performance\n"
   ]
  }
 ],
 "metadata": {
  "kernelspec": {
   "display_name": "preprocessing",
   "language": "python",
   "name": "preprocessing"
  },
  "language_info": {
   "codemirror_mode": {
    "name": "ipython",
    "version": 3
   },
   "file_extension": ".py",
   "mimetype": "text/x-python",
   "name": "python",
   "nbconvert_exporter": "python",
   "pygments_lexer": "ipython3",
   "version": "3.6.8"
  }
 },
 "nbformat": 4,
 "nbformat_minor": 2
}
